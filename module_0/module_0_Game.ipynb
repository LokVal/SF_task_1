{
 "cells": [
  {
   "cell_type": "code",
   "execution_count": 10,
   "metadata": {},
   "outputs": [
    {
     "name": "stdout",
     "output_type": "stream",
     "text": [
      "Ваш алгоритм угадывает число в среднем за 5 попыток\n"
     ]
    },
    {
     "data": {
      "text/plain": [
       "5"
      ]
     },
     "execution_count": 10,
     "metadata": {},
     "output_type": "execute_result"
    }
   ],
   "source": [
    "import random\n",
    "import numpy as np\n",
    "\n",
    "def score_game(game_core):\n",
    "    # Runing the game 1000 times, for calculating how many times in average game can guess the number\n",
    "    count_ls = []\n",
    "    np.random.seed(1)  # fixing RANDOM SEED, for having the same random number every time and always have the same outcome! \n",
    "    random_array = np.random.randint(1,101, size=(1000))\n",
    "    for number in random_array:\n",
    "        count_ls.append(game_core(number))\n",
    "    score = int(np.mean(count_ls))\n",
    "    print(f\"Ваш алгоритм угадывает число в среднем за {score} попыток\")\n",
    "    return(score)\n",
    "\n",
    "\n",
    "def game_core_v3(number):\n",
    "\n",
    "    count = 1      # Counting number of trials \n",
    "    predict = 50   # Offering the first guess number \n",
    "    upper_boundary = 101       # Calling upper and lower boundary of future trials  \n",
    "    lower_boundary = 1\n",
    "\n",
    "    while number != predict:       # Testing predict via changing boundaries in dependance from predict and number itself\n",
    "        if predict > number:\n",
    "            upper_boundary = predict\n",
    "        elif predict < number: \n",
    "            lower_boundary = predict\n",
    "\n",
    "        predict = int((lower_boundary+upper_boundary)/2) # making new predict as middle of interval \n",
    "        count += 1\n",
    "    return(count) # exiting from cycle if guess is right \n",
    "\n",
    "score_game(game_core_v3)"
   ]
  },
  {
   "cell_type": "code",
   "execution_count": null,
   "metadata": {},
   "outputs": [],
   "source": []
  }
 ],
 "metadata": {
  "kernelspec": {
   "display_name": "Python 3",
   "language": "python",
   "name": "python3"
  },
  "language_info": {
   "codemirror_mode": {
    "name": "ipython",
    "version": 3
   },
   "file_extension": ".py",
   "mimetype": "text/x-python",
   "name": "python",
   "nbconvert_exporter": "python",
   "pygments_lexer": "ipython3",
   "version": "3.7.4"
  }
 },
 "nbformat": 4,
 "nbformat_minor": 2
}
